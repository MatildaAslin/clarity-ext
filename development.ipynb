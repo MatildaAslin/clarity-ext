{
 "cells": [
  {
   "cell_type": "markdown",
   "metadata": {},
   "source": [
    "## About"
   ]
  },
  {
   "cell_type": "markdown",
   "metadata": {},
   "source": [
    "This document shows how clarity-ext is intended to be used by showing how it's built bottom-up."
   ]
  },
  {
   "cell_type": "code",
   "execution_count": 1,
   "metadata": {
    "collapsed": false
   },
   "outputs": [],
   "source": [
    "from clarity_ext.domain import *\n",
    "from clarity_ext import ClaritySession"
   ]
  },
  {
   "cell_type": "markdown",
   "metadata": {},
   "source": [
    "## Sessions and repositories"
   ]
  },
  {
   "cell_type": "code",
   "execution_count": 9,
   "metadata": {
    "collapsed": false
   },
   "outputs": [
    {
     "name": "stdout",
     "output_type": "stream",
     "text": [
      "EdvardProv63 (ENG54A32) => 92-7103\n",
      "EdvardProv63 (ENG54A32) => EdvardProv63 (ENG54A32)\n",
      "EdvardProv62 (ENG54A31) => 92-7103\n",
      "EdvardProv62 (ENG54A31) => EdvardProv62 (ENG54A31)\n",
      "EdvardProv61 (ENG54A30) => EdvardProv61 (ENG54A30)\n",
      "EdvardProv61 (ENG54A30) => 92-7103\n",
      "EdvardProv60 (ENG54A29) => EdvardProv60 (ENG54A29)\n",
      "EdvardProv60 (ENG54A29) => 92-7103\n"
     ]
    }
   ],
   "source": [
    "# Create a session and load some data from a current step:\n",
    "session = ClaritySession.create(\"24-3643\")\n",
    "\n",
    "# To get data from the API, we create a repository that uses this session object.\n",
    "# Since we always fetch data through repository objects, mocking the data is simple\n",
    "# (you only need to mock the repo objects)\n",
    "from clarity_ext.repository import StepRepository\n",
    "step = StepRepository(session)\n",
    "\n",
    "# We can now fetch some data from the REST endpoint:\n",
    "artifact_pairs = step.all_artifacts()\n",
    "for inp, outp in artifact_pairs:\n",
    "    print inp, \"=>\", outp"
   ]
  },
  {
   "cell_type": "markdown",
   "metadata": {},
   "source": [
    "## Services"
   ]
  },
  {
   "cell_type": "code",
   "execution_count": 17,
   "metadata": {
    "collapsed": false
   },
   "outputs": [
    {
     "name": "stdout",
     "output_type": "stream",
     "text": [
      "EdvardProv63 (ENG54A32) => EdvardProv63 (ENG54A32) False\n",
      "EdvardProv62 (ENG54A31) => EdvardProv62 (ENG54A31) False\n",
      "EdvardProv61 (ENG54A30) => EdvardProv61 (ENG54A30) False\n",
      "EdvardProv60 (ENG54A29) => EdvardProv60 (ENG54A29) False\n"
     ]
    }
   ],
   "source": [
    "# The repository does only do simple mapping. The idea behind using it is that\n",
    "# it will be the only thing you need to mock in order to unit test \"service\" objects.\n",
    "# These objects do some further mapping or logic on the data and are the classes that\n",
    "# will eventually be used.\n",
    "\n",
    "# Let's say you want to get only the analytes in the current step. That's handled\n",
    "# by the ArtifactService:\n",
    "from clarity_ext.service import ArtifactService\n",
    "svc = ArtifactService(step)\n",
    "analytes = svc.all_analyte_pairs()\n",
    "for analyte in analytes:\n",
    "    print analyte.input_artifact, \"=>\", analyte.output_artifact"
   ]
  },
  {
   "cell_type": "markdown",
   "metadata": {},
   "source": [
    "### Domain objects\n",
    "Services don't return REST resources, they've always mapped those to \"domain objects\". These are objects that are supposed to be easier to use, as they've got related objects on them as fields or lazily evaluated properties. An example of how these objects are easier to use is that UDFs are fetched directly on the object."
   ]
  },
  {
   "cell_type": "code",
   "execution_count": 21,
   "metadata": {
    "collapsed": false
   },
   "outputs": [
    {
     "name": "stdout",
     "output_type": "stream",
     "text": [
      "Types: set([<class 'clarity_ext.domain.analyte.Analyte'>])\n",
      "134.0\n"
     ]
    }
   ],
   "source": [
    "print \"Types: {}\".format(set([type(i.input_artifact) for i in analytes]))\n",
    "\n",
    "# We can fetch UDFs directly on the Analyte object, if it has been mapped accordingly. Note that\n",
    "# these are currently semi-hardcoded fields, but they will be more flexible in a later version:\n",
    "print analytes[0].input_artifact.concentration"
   ]
  },
  {
   "cell_type": "markdown",
   "metadata": {},
   "source": [
    "### Using services, examples:"
   ]
  },
  {
   "cell_type": "code",
   "execution_count": 27,
   "metadata": {
    "collapsed": false
   },
   "outputs": [
    {
     "name": "stdout",
     "output_type": "stream",
     "text": [
      "Input: [27-629, 27-628]\n",
      "Output: [27-631, 27-630]\n"
     ]
    }
   ],
   "source": [
    "# Now, you might also only need a list of all unique output containers. They\n",
    "# are already properties on the Analyte domain object\n",
    "print \"Input:\", svc.all_input_containers()\n",
    "print \"Output:\", svc.all_output_containers()"
   ]
  },
  {
   "cell_type": "markdown",
   "metadata": {},
   "source": [
    "## Unit testing services"
   ]
  },
  {
   "cell_type": "code",
   "execution_count": 31,
   "metadata": {
    "collapsed": true
   },
   "outputs": [],
   "source": [
    "# In order to unit test the logic in the system, only services (and utilities) need to be tested\n",
    "# The data comes from \"repository\" classes, which can be mocked. They need to be integration tested against the\n",
    "# server.\n",
    "\n",
    "# TODO: Examples"
   ]
  },
  {
   "cell_type": "markdown",
   "metadata": {},
   "source": [
    "# ExtensionContext"
   ]
  },
  {
   "cell_type": "code",
   "execution_count": 41,
   "metadata": {
    "collapsed": false
   },
   "outputs": [
    {
     "name": "stdout",
     "output_type": "stream",
     "text": [
      "27-631\n",
      "27-630\n"
     ]
    }
   ],
   "source": [
    "# When running an extension, the extension developer gets a \"context\" object to work with.\n",
    "# This object has all necessary services wrapped in it\n",
    "\n",
    "# The following code has already been executed by the extension runner:\n",
    "from clarity_ext.extensions import ExtensionContext\n",
    "context = ExtensionContext.create(\"24-3643\")\n",
    "\n",
    "# Now, the user can access the most common features directly, as lazy properties:\n",
    "for container in context.output_containers:\n",
    "    print container"
   ]
  }
 ],
 "metadata": {
  "kernelspec": {
   "display_name": "Python 2",
   "language": "python",
   "name": "python2"
  },
  "language_info": {
   "codemirror_mode": {
    "name": "ipython",
    "version": 2
   },
   "file_extension": ".py",
   "mimetype": "text/x-python",
   "name": "python",
   "nbconvert_exporter": "python",
   "pygments_lexer": "ipython2",
   "version": "2.7.11"
  }
 },
 "nbformat": 4,
 "nbformat_minor": 0
}
